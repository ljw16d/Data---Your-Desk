{
 "cells": [
  {
   "attachments": {},
   "cell_type": "markdown",
   "id": "bab6a4b1",
   "metadata": {},
   "source": [
    "## Importing Libraries\n",
    "\n",
    "In this Jupyter notebook, we begin by importing two popular Python libraries - `numpy` and `pandas`. These libraries are commonly used for data analysis and manipulation tasks, such as working with large data sets, performing mathematical operations, and creating data visualizations. By importing these libraries, we gain access to a range of powerful tools and functions that we can use to explore, analyze, and visualize our data."
   ]
  },
  {
   "cell_type": "code",
   "execution_count": 1,
   "id": "e15fb508",
   "metadata": {},
   "outputs": [],
   "source": [
    "import numpy as np\n",
    "import pandas as pd"
   ]
  },
  {
   "attachments": {},
   "cell_type": "markdown",
   "id": "884e2ffa",
   "metadata": {},
   "source": [
    "## Creating a DataFrame\n",
    "\n",
    "Once we have imported our libraries, we can begin working with our data. In this example, we define a dictionary called data that contains temperature and wind data, and we create a Pandas DataFrame using this dictionary.We will use the `numpy` and `pandas` libraries to help us with data analysis and manipulation tasks later on in the notebook.\n",
    "\n",
    "The `data` dictionary has two keys, 'temperature' and 'wind', which correspond to lists of numerical values for each variable. These values represent temperature measurements in degrees Fahrenheit and wind speeds in miles per hour taken over a period of time. \n",
    "\n",
    "With this DataFrame, we can perform a range of data manipulation tasks, such as sorting, filtering, and aggregating our data."
   ]
  },
  {
   "cell_type": "code",
   "execution_count": 2,
   "id": "42b74f86",
   "metadata": {},
   "outputs": [],
   "source": [
    "data = {\n",
    "    'temperature': [90, 85, 82, 91], \n",
    "    'wind': [21, 26, 23, 20]\n",
    "}\n",
    "\n",
    "data_with_index = pd.DataFrame(data, index = ['wk33', 'wk34', 'wk35', 'wk36'])"
   ]
  },
  {
   "attachments": {},
   "cell_type": "markdown",
   "id": "13db3a45",
   "metadata": {},
   "source": [
    "## Summarizing Data with Pandas\n",
    "\n",
    "Once we have our data in a Pandas DataFrame, we can easily generate summary statistics to help us understand our data. \n",
    "\n",
    "In this example, we use the `describe` function to generate summary statistics for our `data_with_index` DataFrame, including the count, mean, standard deviation, minimum, maximum, and quartile values.\n",
    "\n",
    "Using functions like describe can help us quickly gain insights into our data, such as understanding the distribution of our data or identifying potential outliers"
   ]
  },
  {
   "cell_type": "code",
   "execution_count": 3,
   "id": "d5d68c2b",
   "metadata": {},
   "outputs": [
    {
     "data": {
      "text/html": [
       "<div>\n",
       "<style scoped>\n",
       "    .dataframe tbody tr th:only-of-type {\n",
       "        vertical-align: middle;\n",
       "    }\n",
       "\n",
       "    .dataframe tbody tr th {\n",
       "        vertical-align: top;\n",
       "    }\n",
       "\n",
       "    .dataframe thead th {\n",
       "        text-align: right;\n",
       "    }\n",
       "</style>\n",
       "<table border=\"1\" class=\"dataframe\">\n",
       "  <thead>\n",
       "    <tr style=\"text-align: right;\">\n",
       "      <th></th>\n",
       "      <th>temperature</th>\n",
       "      <th>wind</th>\n",
       "    </tr>\n",
       "  </thead>\n",
       "  <tbody>\n",
       "    <tr>\n",
       "      <th>count</th>\n",
       "      <td>4.000000</td>\n",
       "      <td>4.000000</td>\n",
       "    </tr>\n",
       "    <tr>\n",
       "      <th>mean</th>\n",
       "      <td>87.000000</td>\n",
       "      <td>22.500000</td>\n",
       "    </tr>\n",
       "    <tr>\n",
       "      <th>std</th>\n",
       "      <td>4.242641</td>\n",
       "      <td>2.645751</td>\n",
       "    </tr>\n",
       "    <tr>\n",
       "      <th>min</th>\n",
       "      <td>82.000000</td>\n",
       "      <td>20.000000</td>\n",
       "    </tr>\n",
       "    <tr>\n",
       "      <th>25%</th>\n",
       "      <td>84.250000</td>\n",
       "      <td>20.750000</td>\n",
       "    </tr>\n",
       "    <tr>\n",
       "      <th>50%</th>\n",
       "      <td>87.500000</td>\n",
       "      <td>22.000000</td>\n",
       "    </tr>\n",
       "    <tr>\n",
       "      <th>75%</th>\n",
       "      <td>90.250000</td>\n",
       "      <td>23.750000</td>\n",
       "    </tr>\n",
       "    <tr>\n",
       "      <th>max</th>\n",
       "      <td>91.000000</td>\n",
       "      <td>26.000000</td>\n",
       "    </tr>\n",
       "  </tbody>\n",
       "</table>\n",
       "</div>"
      ],
      "text/plain": [
       "       temperature       wind\n",
       "count     4.000000   4.000000\n",
       "mean     87.000000  22.500000\n",
       "std       4.242641   2.645751\n",
       "min      82.000000  20.000000\n",
       "25%      84.250000  20.750000\n",
       "50%      87.500000  22.000000\n",
       "75%      90.250000  23.750000\n",
       "max      91.000000  26.000000"
      ]
     },
     "execution_count": 3,
     "metadata": {},
     "output_type": "execute_result"
    }
   ],
   "source": [
    "data_with_index.describe()"
   ]
  },
  {
   "attachments": {},
   "cell_type": "markdown",
   "id": "25c9d679",
   "metadata": {},
   "source": [
    "## Applying Functions to a DataFrame\n",
    "\n",
    "Once we have our data in a DataFrame, we can apply various functions to it. For example, we can use the apply function with the numpy.cumsum function to calculate the cumulative sum of our data over time."
   ]
  },
  {
   "cell_type": "code",
   "execution_count": 4,
   "id": "35535247",
   "metadata": {},
   "outputs": [
    {
     "data": {
      "text/html": [
       "<div>\n",
       "<style scoped>\n",
       "    .dataframe tbody tr th:only-of-type {\n",
       "        vertical-align: middle;\n",
       "    }\n",
       "\n",
       "    .dataframe tbody tr th {\n",
       "        vertical-align: top;\n",
       "    }\n",
       "\n",
       "    .dataframe thead th {\n",
       "        text-align: right;\n",
       "    }\n",
       "</style>\n",
       "<table border=\"1\" class=\"dataframe\">\n",
       "  <thead>\n",
       "    <tr style=\"text-align: right;\">\n",
       "      <th></th>\n",
       "      <th>temperature</th>\n",
       "      <th>wind</th>\n",
       "    </tr>\n",
       "  </thead>\n",
       "  <tbody>\n",
       "    <tr>\n",
       "      <th>wk33</th>\n",
       "      <td>90</td>\n",
       "      <td>21</td>\n",
       "    </tr>\n",
       "    <tr>\n",
       "      <th>wk34</th>\n",
       "      <td>175</td>\n",
       "      <td>47</td>\n",
       "    </tr>\n",
       "    <tr>\n",
       "      <th>wk35</th>\n",
       "      <td>257</td>\n",
       "      <td>70</td>\n",
       "    </tr>\n",
       "    <tr>\n",
       "      <th>wk36</th>\n",
       "      <td>348</td>\n",
       "      <td>90</td>\n",
       "    </tr>\n",
       "  </tbody>\n",
       "</table>\n",
       "</div>"
      ],
      "text/plain": [
       "      temperature  wind\n",
       "wk33           90    21\n",
       "wk34          175    47\n",
       "wk35          257    70\n",
       "wk36          348    90"
      ]
     },
     "execution_count": 4,
     "metadata": {},
     "output_type": "execute_result"
    }
   ],
   "source": [
    "data_with_index.apply(np.cumsum)"
   ]
  },
  {
   "attachments": {},
   "cell_type": "markdown",
   "id": "b0d08c4f",
   "metadata": {},
   "source": [
    "We can also calculate other descriptive statistics, such as the mean of our data."
   ]
  },
  {
   "cell_type": "code",
   "execution_count": 5,
   "id": "09cd41df",
   "metadata": {},
   "outputs": [
    {
     "data": {
      "text/plain": [
       "temperature    87.0\n",
       "wind           22.5\n",
       "dtype: float64"
      ]
     },
     "execution_count": 5,
     "metadata": {},
     "output_type": "execute_result"
    }
   ],
   "source": [
    "data_with_index.mean()"
   ]
  },
  {
   "attachments": {},
   "cell_type": "markdown",
   "id": "38871fa7",
   "metadata": {},
   "source": [
    "## Filtering a DataFrame\n",
    "\n",
    "We can use the query function to filter our DataFrame based on specific conditions. In this example, we select all rows where the temperature is greater than or equal to 90."
   ]
  },
  {
   "cell_type": "code",
   "execution_count": 6,
   "id": "feae96a9",
   "metadata": {},
   "outputs": [
    {
     "data": {
      "text/html": [
       "<div>\n",
       "<style scoped>\n",
       "    .dataframe tbody tr th:only-of-type {\n",
       "        vertical-align: middle;\n",
       "    }\n",
       "\n",
       "    .dataframe tbody tr th {\n",
       "        vertical-align: top;\n",
       "    }\n",
       "\n",
       "    .dataframe thead th {\n",
       "        text-align: right;\n",
       "    }\n",
       "</style>\n",
       "<table border=\"1\" class=\"dataframe\">\n",
       "  <thead>\n",
       "    <tr style=\"text-align: right;\">\n",
       "      <th></th>\n",
       "      <th>temperature</th>\n",
       "      <th>wind</th>\n",
       "    </tr>\n",
       "  </thead>\n",
       "  <tbody>\n",
       "    <tr>\n",
       "      <th>wk33</th>\n",
       "      <td>90</td>\n",
       "      <td>21</td>\n",
       "    </tr>\n",
       "    <tr>\n",
       "      <th>wk36</th>\n",
       "      <td>91</td>\n",
       "      <td>20</td>\n",
       "    </tr>\n",
       "  </tbody>\n",
       "</table>\n",
       "</div>"
      ],
      "text/plain": [
       "      temperature  wind\n",
       "wk33           90    21\n",
       "wk36           91    20"
      ]
     },
     "execution_count": 6,
     "metadata": {},
     "output_type": "execute_result"
    }
   ],
   "source": [
    "data_with_index.query('temperature >= 90')"
   ]
  },
  {
   "attachments": {},
   "cell_type": "markdown",
   "id": "283cebd7",
   "metadata": {},
   "source": [
    "We can also apply more complex filters using logical operators, such as selecting rows where both the temperature is greater than or equal to 90 and the wind speed is greater than 20."
   ]
  },
  {
   "cell_type": "code",
   "execution_count": 7,
   "id": "023425e9",
   "metadata": {},
   "outputs": [
    {
     "data": {
      "text/html": [
       "<div>\n",
       "<style scoped>\n",
       "    .dataframe tbody tr th:only-of-type {\n",
       "        vertical-align: middle;\n",
       "    }\n",
       "\n",
       "    .dataframe tbody tr th {\n",
       "        vertical-align: top;\n",
       "    }\n",
       "\n",
       "    .dataframe thead th {\n",
       "        text-align: right;\n",
       "    }\n",
       "</style>\n",
       "<table border=\"1\" class=\"dataframe\">\n",
       "  <thead>\n",
       "    <tr style=\"text-align: right;\">\n",
       "      <th></th>\n",
       "      <th>temperature</th>\n",
       "      <th>wind</th>\n",
       "    </tr>\n",
       "  </thead>\n",
       "  <tbody>\n",
       "    <tr>\n",
       "      <th>wk33</th>\n",
       "      <td>90</td>\n",
       "      <td>21</td>\n",
       "    </tr>\n",
       "  </tbody>\n",
       "</table>\n",
       "</div>"
      ],
      "text/plain": [
       "      temperature  wind\n",
       "wk33           90    21"
      ]
     },
     "execution_count": 7,
     "metadata": {},
     "output_type": "execute_result"
    }
   ],
   "source": [
    "data_with_index[(data_with_index.temperature >= 90) & (data_with_index.wind > 20)]"
   ]
  },
  {
   "attachments": {},
   "cell_type": "markdown",
   "id": "5ba85451",
   "metadata": {},
   "source": [
    "## Exporting Data\n",
    "\n",
    "Finally, we can use Pandas to export our data to other file formats, such as Excel.\n",
    "\n",
    "In this example, we are using the pip package manager to install the openpyxl library. This library allows us to read and write data to Excel files, making it a useful tool for data analysis and manipulation.\n",
    "\n",
    "To import the openpyxl library in our Python code, we would simply include the following statement at the beginning of our notebook or script:"
   ]
  },
  {
   "cell_type": "code",
   "execution_count": 8,
   "id": "9cc6bfc3",
   "metadata": {},
   "outputs": [
    {
     "name": "stdout",
     "output_type": "stream",
     "text": [
      "Requirement already satisfied: openpyxl in /usr/local/python/3.10.4/lib/python3.10/site-packages (3.1.1)\n",
      "Requirement already satisfied: et-xmlfile in /usr/local/python/3.10.4/lib/python3.10/site-packages (from openpyxl) (1.1.0)\n",
      "\n",
      "\u001b[1m[\u001b[0m\u001b[34;49mnotice\u001b[0m\u001b[1;39;49m]\u001b[0m\u001b[39;49m A new release of pip is available: \u001b[0m\u001b[31;49m23.0\u001b[0m\u001b[39;49m -> \u001b[0m\u001b[32;49m23.0.1\u001b[0m\n",
      "\u001b[1m[\u001b[0m\u001b[34;49mnotice\u001b[0m\u001b[1;39;49m]\u001b[0m\u001b[39;49m To update, run: \u001b[0m\u001b[32;49mpip install --upgrade pip\u001b[0m\n",
      "Note: you may need to restart the kernel to use updated packages.\n"
     ]
    }
   ],
   "source": [
    "pip install openpyxl"
   ]
  },
  {
   "attachments": {},
   "cell_type": "markdown",
   "id": "d635ff3f",
   "metadata": {},
   "source": [
    "With this library installed and imported, we can now take advantage of its functions and capabilities to enhance our data analysis workflows. \n",
    "\n",
    "In this example, we export our DataFrame to an Excel file called myExcel.xlsx."
   ]
  },
  {
   "cell_type": "code",
   "execution_count": 9,
   "id": "b5839b84",
   "metadata": {},
   "outputs": [],
   "source": [
    "data_with_index.to_excel('myExcel.xlsx', sheet_name='Pandas', index_label='Week')"
   ]
  },
  {
   "attachments": {},
   "cell_type": "markdown",
   "id": "e89b69a7",
   "metadata": {},
   "source": [
    "We can then read this file back into Python using the read_excel function."
   ]
  },
  {
   "cell_type": "code",
   "execution_count": 10,
   "id": "a6f5c3ea",
   "metadata": {},
   "outputs": [
    {
     "data": {
      "text/html": [
       "<div>\n",
       "<style scoped>\n",
       "    .dataframe tbody tr th:only-of-type {\n",
       "        vertical-align: middle;\n",
       "    }\n",
       "\n",
       "    .dataframe tbody tr th {\n",
       "        vertical-align: top;\n",
       "    }\n",
       "\n",
       "    .dataframe thead th {\n",
       "        text-align: right;\n",
       "    }\n",
       "</style>\n",
       "<table border=\"1\" class=\"dataframe\">\n",
       "  <thead>\n",
       "    <tr style=\"text-align: right;\">\n",
       "      <th></th>\n",
       "      <th>Week</th>\n",
       "      <th>temperature</th>\n",
       "      <th>wind</th>\n",
       "    </tr>\n",
       "  </thead>\n",
       "  <tbody>\n",
       "    <tr>\n",
       "      <th>0</th>\n",
       "      <td>wk33</td>\n",
       "      <td>90</td>\n",
       "      <td>21</td>\n",
       "    </tr>\n",
       "    <tr>\n",
       "      <th>1</th>\n",
       "      <td>wk34</td>\n",
       "      <td>85</td>\n",
       "      <td>26</td>\n",
       "    </tr>\n",
       "    <tr>\n",
       "      <th>2</th>\n",
       "      <td>wk35</td>\n",
       "      <td>82</td>\n",
       "      <td>23</td>\n",
       "    </tr>\n",
       "    <tr>\n",
       "      <th>3</th>\n",
       "      <td>wk36</td>\n",
       "      <td>91</td>\n",
       "      <td>20</td>\n",
       "    </tr>\n",
       "  </tbody>\n",
       "</table>\n",
       "</div>"
      ],
      "text/plain": [
       "   Week  temperature  wind\n",
       "0  wk33           90    21\n",
       "1  wk34           85    26\n",
       "2  wk35           82    23\n",
       "3  wk36           91    20"
      ]
     },
     "execution_count": 10,
     "metadata": {},
     "output_type": "execute_result"
    }
   ],
   "source": [
    "pd.read_excel('myExcel.xlsx', 'Pandas', na_values=['NA'])"
   ]
  },
  {
   "attachments": {},
   "cell_type": "markdown",
   "id": "1bc78d1c",
   "metadata": {},
   "source": [
    "By using Jupyter and these powerful libraries, we can quickly and easily manipulate and analyze data, helping us to gain insights and make better decisions."
   ]
  }
 ],
 "metadata": {
  "kernelspec": {
   "display_name": "Python 3",
   "language": "python",
   "name": "python3"
  },
  "language_info": {
   "codemirror_mode": {
    "name": "ipython",
    "version": 3
   },
   "file_extension": ".py",
   "mimetype": "text/x-python",
   "name": "python",
   "nbconvert_exporter": "python",
   "pygments_lexer": "ipython3",
   "version": "3.10.4"
  },
  "vscode": {
   "interpreter": {
    "hash": "3ad933181bd8a04b432d3370b9dc3b0662ad032c4dfaa4e4f1596c548f763858"
   }
  }
 },
 "nbformat": 4,
 "nbformat_minor": 5
}

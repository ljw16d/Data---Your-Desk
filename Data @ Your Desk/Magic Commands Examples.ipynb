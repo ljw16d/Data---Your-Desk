{
 "cells": [
  {
   "attachments": {},
   "cell_type": "markdown",
   "id": "1f01a7a2",
   "metadata": {},
   "source": [
    "## Introduction to Magic Commands in Jupyter Notebook\n",
    "\n",
    "In Jupyter Notebook, Magic Commands are special commands that provide additional functionality to the standard Python syntax. Magic Commands start with a % or %% prefix and can be used to perform various tasks, such as listing available commands, defining aliases, changing working directories, and more. Here are some examples of how to use Magic Commands in Jupyter Notebook:"
   ]
  },
  {
   "attachments": {},
   "cell_type": "markdown",
   "id": "8aa18527",
   "metadata": {},
   "source": [
    "This command lists all available Magic Commands in Jupyter Notebook. It can be useful when you're not sure what commands are available or when you want to explore new functionality."
   ]
  },
  {
   "cell_type": "code",
   "execution_count": 1,
   "id": "4673de6d",
   "metadata": {},
   "outputs": [
    {
     "data": {
      "application/json": {
       "cell": {
        "!": "OSMagics",
        "HTML": "Other",
        "SVG": "Other",
        "bash": "Other",
        "capture": "ExecutionMagics",
        "debug": "ExecutionMagics",
        "file": "Other",
        "html": "DisplayMagics",
        "javascript": "DisplayMagics",
        "js": "DisplayMagics",
        "latex": "DisplayMagics",
        "markdown": "DisplayMagics",
        "perl": "Other",
        "prun": "ExecutionMagics",
        "pypy": "Other",
        "python": "Other",
        "python2": "Other",
        "python3": "Other",
        "ruby": "Other",
        "script": "ScriptMagics",
        "sh": "Other",
        "svg": "DisplayMagics",
        "sx": "OSMagics",
        "system": "OSMagics",
        "time": "ExecutionMagics",
        "timeit": "ExecutionMagics",
        "writefile": "OSMagics"
       },
       "line": {
        "alias": "OSMagics",
        "alias_magic": "BasicMagics",
        "autoawait": "AsyncMagics",
        "autocall": "AutoMagics",
        "automagic": "AutoMagics",
        "autosave": "KernelMagics",
        "bookmark": "OSMagics",
        "cat": "Other",
        "cd": "OSMagics",
        "clear": "KernelMagics",
        "colors": "BasicMagics",
        "conda": "PackagingMagics",
        "config": "ConfigMagics",
        "connect_info": "KernelMagics",
        "cp": "Other",
        "debug": "ExecutionMagics",
        "dhist": "OSMagics",
        "dirs": "OSMagics",
        "doctest_mode": "BasicMagics",
        "ed": "Other",
        "edit": "KernelMagics",
        "env": "OSMagics",
        "gui": "BasicMagics",
        "hist": "Other",
        "history": "HistoryMagics",
        "killbgscripts": "ScriptMagics",
        "ldir": "Other",
        "less": "KernelMagics",
        "lf": "Other",
        "lk": "Other",
        "ll": "Other",
        "load": "CodeMagics",
        "load_ext": "ExtensionMagics",
        "loadpy": "CodeMagics",
        "logoff": "LoggingMagics",
        "logon": "LoggingMagics",
        "logstart": "LoggingMagics",
        "logstate": "LoggingMagics",
        "logstop": "LoggingMagics",
        "ls": "Other",
        "lsmagic": "BasicMagics",
        "lx": "Other",
        "macro": "ExecutionMagics",
        "magic": "BasicMagics",
        "man": "KernelMagics",
        "matplotlib": "PylabMagics",
        "mkdir": "Other",
        "more": "KernelMagics",
        "mv": "Other",
        "notebook": "BasicMagics",
        "page": "BasicMagics",
        "pastebin": "CodeMagics",
        "pdb": "ExecutionMagics",
        "pdef": "NamespaceMagics",
        "pdoc": "NamespaceMagics",
        "pfile": "NamespaceMagics",
        "pinfo": "NamespaceMagics",
        "pinfo2": "NamespaceMagics",
        "pip": "PackagingMagics",
        "popd": "OSMagics",
        "pprint": "BasicMagics",
        "precision": "BasicMagics",
        "prun": "ExecutionMagics",
        "psearch": "NamespaceMagics",
        "psource": "NamespaceMagics",
        "pushd": "OSMagics",
        "pwd": "OSMagics",
        "pycat": "OSMagics",
        "pylab": "PylabMagics",
        "qtconsole": "KernelMagics",
        "quickref": "BasicMagics",
        "recall": "HistoryMagics",
        "rehashx": "OSMagics",
        "reload_ext": "ExtensionMagics",
        "rep": "Other",
        "rerun": "HistoryMagics",
        "reset": "NamespaceMagics",
        "reset_selective": "NamespaceMagics",
        "rm": "Other",
        "rmdir": "Other",
        "run": "ExecutionMagics",
        "save": "CodeMagics",
        "sc": "OSMagics",
        "set_env": "OSMagics",
        "store": "StoreMagics",
        "sx": "OSMagics",
        "system": "OSMagics",
        "tb": "ExecutionMagics",
        "time": "ExecutionMagics",
        "timeit": "ExecutionMagics",
        "unalias": "OSMagics",
        "unload_ext": "ExtensionMagics",
        "who": "NamespaceMagics",
        "who_ls": "NamespaceMagics",
        "whos": "NamespaceMagics",
        "xdel": "NamespaceMagics",
        "xmode": "BasicMagics"
       }
      },
      "text/plain": [
       "Available line magics:\n",
       "%alias  %alias_magic  %autoawait  %autocall  %automagic  %autosave  %bookmark  %cat  %cd  %clear  %colors  %conda  %config  %connect_info  %cp  %debug  %dhist  %dirs  %doctest_mode  %ed  %edit  %env  %gui  %hist  %history  %killbgscripts  %ldir  %less  %lf  %lk  %ll  %load  %load_ext  %loadpy  %logoff  %logon  %logstart  %logstate  %logstop  %ls  %lsmagic  %lx  %macro  %magic  %man  %matplotlib  %mkdir  %more  %mv  %notebook  %page  %pastebin  %pdb  %pdef  %pdoc  %pfile  %pinfo  %pinfo2  %pip  %popd  %pprint  %precision  %prun  %psearch  %psource  %pushd  %pwd  %pycat  %pylab  %qtconsole  %quickref  %recall  %rehashx  %reload_ext  %rep  %rerun  %reset  %reset_selective  %rm  %rmdir  %run  %save  %sc  %set_env  %store  %sx  %system  %tb  %time  %timeit  %unalias  %unload_ext  %who  %who_ls  %whos  %xdel  %xmode\n",
       "\n",
       "Available cell magics:\n",
       "%%!  %%HTML  %%SVG  %%bash  %%capture  %%debug  %%file  %%html  %%javascript  %%js  %%latex  %%markdown  %%perl  %%prun  %%pypy  %%python  %%python2  %%python3  %%ruby  %%script  %%sh  %%svg  %%sx  %%system  %%time  %%timeit  %%writefile\n",
       "\n",
       "Automagic is ON, % prefix IS NOT needed for line magics."
      ]
     },
     "execution_count": 1,
     "metadata": {},
     "output_type": "execute_result"
    }
   ],
   "source": [
    "%lsmagic"
   ]
  },
  {
   "attachments": {},
   "cell_type": "markdown",
   "id": "58353bb0",
   "metadata": {},
   "source": [
    "This command displays documentation for the %lsmagic command. It provides a brief overview of what the command does and how to use it."
   ]
  },
  {
   "cell_type": "code",
   "execution_count": 2,
   "id": "ed7d9af7",
   "metadata": {},
   "outputs": [
    {
     "name": "stdout",
     "output_type": "stream",
     "text": [
      "\u001b[0;31mDocstring:\u001b[0m List currently available magic functions.\n",
      "\u001b[0;31mFile:\u001b[0m      ~/.local/lib/python3.10/site-packages/IPython/core/magics/basic.py"
     ]
    }
   ],
   "source": [
    "%lsmagic?"
   ]
  },
  {
   "attachments": {},
   "cell_type": "markdown",
   "id": "913e6b32",
   "metadata": {},
   "source": [
    "This command displays documentation for the %alias command. %alias can be used to define custom aliases for shell commands, making it easier to execute frequently used commands."
   ]
  },
  {
   "cell_type": "code",
   "execution_count": 3,
   "id": "435eeadf",
   "metadata": {},
   "outputs": [
    {
     "name": "stdout",
     "output_type": "stream",
     "text": [
      "\u001b[0;31mDocstring:\u001b[0m\n",
      "Define an alias for a system command.\n",
      "\n",
      "'%alias alias_name cmd' defines 'alias_name' as an alias for 'cmd'\n",
      "\n",
      "Then, typing 'alias_name params' will execute the system command 'cmd\n",
      "params' (from your underlying operating system).\n",
      "\n",
      "Aliases have lower precedence than magic functions and Python normal\n",
      "variables, so if 'foo' is both a Python variable and an alias, the\n",
      "alias can not be executed until 'del foo' removes the Python variable.\n",
      "\n",
      "You can use the %l specifier in an alias definition to represent the\n",
      "whole line when the alias is called.  For example::\n",
      "\n",
      "  In [2]: alias bracket echo \"Input in brackets: <%l>\"\n",
      "  In [3]: bracket hello world\n",
      "  Input in brackets: <hello world>\n",
      "\n",
      "You can also define aliases with parameters using %s specifiers (one\n",
      "per parameter)::\n",
      "\n",
      "  In [1]: alias parts echo first %s second %s\n",
      "  In [2]: %parts A B\n",
      "  first A second B\n",
      "  In [3]: %parts A\n",
      "  Incorrect number of arguments: 2 expected.\n",
      "  parts is an alias to: 'echo first %s second %s'\n",
      "\n",
      "Note that %l and %s are mutually exclusive.  You can only use one or\n",
      "the other in your aliases.\n",
      "\n",
      "Aliases expand Python variables just like system calls using ! or !!\n",
      "do: all expressions prefixed with '$' get expanded.  For details of\n",
      "the semantic rules, see PEP-215:\n",
      "https://peps.python.org/pep-0215/.  This is the library used by\n",
      "IPython for variable expansion.  If you want to access a true shell\n",
      "variable, an extra $ is necessary to prevent its expansion by\n",
      "IPython::\n",
      "\n",
      "  In [6]: alias show echo\n",
      "  In [7]: PATH='A Python string'\n",
      "  In [8]: show $PATH\n",
      "  A Python string\n",
      "  In [9]: show $$PATH\n",
      "  /usr/local/lf9560/bin:/usr/local/intel/compiler70/ia32/bin:...\n",
      "\n",
      "You can use the alias facility to access all of $PATH.  See the %rehashx\n",
      "function, which automatically creates aliases for the contents of your\n",
      "$PATH.\n",
      "\n",
      "If called with no parameters, %alias prints the current alias table\n",
      "for your system.  For posix systems, the default aliases are 'cat',\n",
      "'cp', 'mv', 'rm', 'rmdir', and 'mkdir', and other platform-specific\n",
      "aliases are added.  For windows-based systems, the default aliases are\n",
      "'copy', 'ddir', 'echo', 'ls', 'ldir', 'mkdir', 'ren', and 'rmdir'.\n",
      "\n",
      "You can see the definition of alias by adding a question mark in the\n",
      "end::\n",
      "\n",
      "  In [1]: cat?\n",
      "  Repr: <alias cat for 'cat'>\n",
      "\u001b[0;31mFile:\u001b[0m      ~/.local/lib/python3.10/site-packages/IPython/core/magics/osm.py"
     ]
    }
   ],
   "source": [
    "%alias?"
   ]
  },
  {
   "attachments": {},
   "cell_type": "markdown",
   "id": "95cfd24b",
   "metadata": {},
   "source": [
    "This command creates a custom alias called data_workshop. When this alias is executed, it will print the message \"I'm learning so much! :)\" to the console."
   ]
  },
  {
   "cell_type": "code",
   "execution_count": 4,
   "id": "0bacb35f",
   "metadata": {},
   "outputs": [],
   "source": [
    "%alias data_workshop echo \"I'm learning so much! :)\""
   ]
  },
  {
   "attachments": {},
   "cell_type": "markdown",
   "id": "83a0efba",
   "metadata": {},
   "source": [
    "This command executes the data_workshop alias we defined earlier. When executed, it will print the message \"I'm learning so much! :)\" to the console."
   ]
  },
  {
   "cell_type": "code",
   "execution_count": 5,
   "id": "95f18a47",
   "metadata": {},
   "outputs": [
    {
     "name": "stdout",
     "output_type": "stream",
     "text": [
      "I'm learning so much! :)\n"
     ]
    }
   ],
   "source": [
    "data_workshop"
   ]
  },
  {
   "attachments": {},
   "cell_type": "markdown",
   "id": "00b2cf05",
   "metadata": {},
   "source": [
    "This command lists the files and directories in the current working directory. It can be useful when you want to verify that a file or directory exists."
   ]
  },
  {
   "cell_type": "code",
   "execution_count": 6,
   "id": "c48fd089",
   "metadata": {},
   "outputs": [
    {
     "name": "stdout",
     "output_type": "stream",
     "text": [
      "'Data Visualizations Example.ipynb'   myExcel.xlsx\n",
      "'Library Examples.ipynb'              seattle-weather.csv\n",
      "'Magic Commands Examples.ipynb'\n"
     ]
    }
   ],
   "source": [
    "%ls"
   ]
  },
  {
   "attachments": {},
   "cell_type": "markdown",
   "id": "1fa908fd",
   "metadata": {},
   "source": [
    "This command displays the current working directory. It can be useful when you want to verify that you're working in the correct directory."
   ]
  },
  {
   "cell_type": "code",
   "execution_count": 7,
   "id": "80509e31",
   "metadata": {},
   "outputs": [
    {
     "data": {
      "text/plain": [
       "'/workspaces/codespaces-jupyter/Data @ Your Desk'"
      ]
     },
     "execution_count": 7,
     "metadata": {},
     "output_type": "execute_result"
    }
   ],
   "source": [
    "%pwd"
   ]
  },
  {
   "attachments": {},
   "cell_type": "markdown",
   "id": "8809cade",
   "metadata": {},
   "source": [
    "This command changes the current working directory to the notebooks directory located one level above the current directory."
   ]
  },
  {
   "cell_type": "code",
   "execution_count": 8,
   "id": "4dbab70a",
   "metadata": {},
   "outputs": [
    {
     "name": "stdout",
     "output_type": "stream",
     "text": [
      "/workspaces/codespaces-jupyter/notebooks\n"
     ]
    }
   ],
   "source": [
    "%cd ../notebooks/"
   ]
  },
  {
   "attachments": {},
   "cell_type": "markdown",
   "id": "e723db45",
   "metadata": {},
   "source": [
    "This command executes a shell command (in this case, the ls command) and displays the output in the Jupyter Notebook. It can be useful when you need to execute a shell command that is not available as a Magic Command."
   ]
  },
  {
   "cell_type": "code",
   "execution_count": 9,
   "id": "7737bcca",
   "metadata": {},
   "outputs": [
    {
     "name": "stdout",
     "output_type": "stream",
     "text": [
      "image-classifier.ipynb\tmatplotlib.ipynb  population.ipynb\n"
     ]
    }
   ],
   "source": [
    "!ls"
   ]
  }
 ],
 "metadata": {
  "kernelspec": {
   "display_name": "Python 3",
   "language": "python",
   "name": "python3"
  },
  "language_info": {
   "codemirror_mode": {
    "name": "ipython",
    "version": 3
   },
   "file_extension": ".py",
   "mimetype": "text/x-python",
   "name": "python",
   "nbconvert_exporter": "python",
   "pygments_lexer": "ipython3",
   "version": "3.10.4"
  },
  "vscode": {
   "interpreter": {
    "hash": "3ad933181bd8a04b432d3370b9dc3b0662ad032c4dfaa4e4f1596c548f763858"
   }
  }
 },
 "nbformat": 4,
 "nbformat_minor": 5
}
